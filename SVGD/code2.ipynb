{
 "cells": [
  {
   "cell_type": "code",
   "execution_count": 1,
   "metadata": {},
   "outputs": [],
   "source": [
    "%matplotlib inline\n",
    "import matplotlib.pyplot as plt\n",
    "import tensorflow as tf\n",
    "import numpy as np\n",
    "import pandas as pd\n",
    "import seaborn as sns\n",
    "import sys\n",
    "import time\n",
    "\n",
    "from tensorflow.contrib.distributions import Normal, Gamma\n",
    "from tensorflow.examples.tutorials.mnist import input_data"
   ]
  },
  {
   "cell_type": "code",
   "execution_count": 3,
   "metadata": {},
   "outputs": [
    {
     "name": "stdout",
     "output_type": "stream",
     "text": [
      "Extracting MNIST_data/train-images-idx3-ubyte.gz\n",
      "Extracting MNIST_data/train-labels-idx1-ubyte.gz\n",
      "Extracting MNIST_data/t10k-images-idx3-ubyte.gz\n",
      "Extracting MNIST_data/t10k-labels-idx1-ubyte.gz\n"
     ]
    }
   ],
   "source": [
    "# load data\n",
    "mnist = input_data.read_data_sets(\"MNIST_data/\", one_hot=True)"
   ]
  },
  {
   "cell_type": "code",
   "execution_count": 4,
   "metadata": {},
   "outputs": [
    {
     "name": "stdout",
     "output_type": "stream",
     "text": [
      "train: 55000\n",
      "test: 10000\n"
     ]
    }
   ],
   "source": [
    "print(\"train: \"+str(mnist.train.num_examples))\n",
    "print(\"test: \"+str(mnist.test.num_examples))"
   ]
  },
  {
   "cell_type": "code",
   "execution_count": 9,
   "metadata": {},
   "outputs": [],
   "source": [
    "# model variables\n",
    "N_FEATURES = 28*28\n",
    "N_CLASSES = 10\n",
    "ALPHA, BETA = 1., 0.1\n",
    "\n",
    "N_TRAIN = mnist.train.num_examples\n",
    "N_BATCH = 128\n",
    "\n",
    "#stein variables\n",
    "EL = 1e-3 \n",
    "N_ITERATIONS = 5000#5000\n",
    "M = 100 # number of particles\n",
    "\n",
    "#adam variables\n",
    "FUDGE_FACTOR = 1e-6\n",
    "AUTO_CORR = 0.9"
   ]
  },
  {
   "cell_type": "code",
   "execution_count": 10,
   "metadata": {},
   "outputs": [],
   "source": [
    "#create the first model\n",
    "with tf.name_scope(\"model\"):\n",
    "    # variables\n",
    "    model_x = tf.placeholder(tf.float32, [None, N_FEATURES])\n",
    "    model_y = tf.placeholder(tf.float32, [None, N_CLASSES]) # one-hot-encoding\n",
    "    model_w = tf.Variable(tf.zeros([N_FEATURES,N_CLASSES], dtype=tf.float32))\n",
    "    model_b = tf.Variable(tf.zeros([N_CLASSES], dtype=tf.float32))\n",
    "    model_log_lambda = tf.Variable(tf.zeros([]))\n",
    "    model_lambda = tf.exp(model_log_lambda)\n",
    "\n",
    "    with tf.name_scope(\"prediction\"):\n",
    "        model_prediction = tf.nn.softmax(tf.matmul(model_x,model_w)+model_b) # y = softmax(w*x+b)\n",
    "    \n",
    "    with tf.name_scope(\"likelihood\"):\n",
    "        log_prediction = tf.log(model_prediction) # log p(y=i|x,w), for i = 0,...,9\n",
    "        #use the true label, we need for x_i log p(y=y_i|x_i,w)\n",
    "        log_like = tf.reduce_sum(model_y * log_prediction, 1) \n",
    "        log_likelihood = tf.reduce_sum(log_like) #log p(D|w)\n",
    "    \n",
    "    with tf.name_scope(\"priors\"):\n",
    "        prior_lambda = Gamma(ALPHA, BETA)\n",
    "        prior_w = Normal(\n",
    "            tf.zeros([N_FEATURES, N_CLASSES]),\n",
    "            1.#tf.reciprocal(tf.sqrt(model_lambda))\n",
    "        )\n",
    "        prior_b = Normal(\n",
    "            tf.zeros([N_CLASSES]),\n",
    "            1.#tf.reciprocal(tf.sqrt(model_lambda))\n",
    "        )\n",
    "    \n",
    "    log_p = (\n",
    "        log_likelihood * N_TRAIN / N_BATCH +\n",
    "        # Variance priors.\n",
    "        prior_lambda.log_prob(model_log_lambda) +\n",
    "        # Weight and bias priors.\n",
    "        tf.reduce_sum(prior_w.log_prob(model_w)) +\n",
    "        tf.reduce_sum(prior_b.log_prob(model_b))\n",
    "    )\n",
    "        \n",
    "    m_grad_log_p = tf.gradients(log_p, [model_w, model_b, model_log_lambda])"
   ]
  },
  {
   "cell_type": "code",
   "execution_count": 11,
   "metadata": {},
   "outputs": [],
   "source": [
    "def get_real_median(v):\n",
    "    v = tf.reshape(v, [-1])\n",
    "    l = v.get_shape()[0]\n",
    "    mid = l//2 + 1\n",
    "    val = tf.nn.top_k(v, mid).values\n",
    "    if l % 2 == 1:\n",
    "        return val[-1]\n",
    "    else:\n",
    "        return 0.5 * (val[-1] + val[-2])\n",
    "\n",
    "def svgd_kernel(theta):\n",
    "    # compute dist\n",
    "    r = tf.reduce_sum(theta*theta, 1)\n",
    "    r = tf.reshape(r, [-1, 1])\n",
    "    pairwise_dists = r - 2.*tf.matmul(theta, tf.transpose(theta)) + tf.transpose(r)\n",
    "    \n",
    "    #using median trick and compute h\n",
    "    m = get_real_median(pairwise_dists)\n",
    "    h = tf.sqrt(0.5 * m / tf.log(tf.cast(theta.get_shape()[0], tf.float32)+1.0))\n",
    "    \n",
    "    # kernel matrix\n",
    "    kernel_matrix = tf.exp(-pairwise_dists/h**2/2)\n",
    "    \n",
    "    # gradient of kernel matrix\n",
    "    grad_kernel = -tf.matmul(kernel_matrix, theta)\n",
    "    sumkxy = tf.expand_dims(tf.reduce_sum(kernel_matrix, axis=1), 1) \n",
    "    grad_kernel = tf.add(grad_kernel, tf.multiply(theta, sumkxy)) / (h ** 2)\n",
    "\n",
    "    return kernel_matrix, grad_kernel\n",
    "    \n",
    "#create the inference\n",
    "with tf.name_scope(\"inference\"):\n",
    "    in_theta = tf.placeholder(tf.float32, [M, (N_FEATURES+1)*N_CLASSES+1]) # w+b+gamma\n",
    "    in_grad_log_p = tf.placeholder(tf.float32, [M, (N_FEATURES+1)*N_CLASSES+1])\n",
    "    \n",
    "    kernel_matrix, grad_kernel = svgd_kernel(in_theta)\n",
    "    #grad_log_p = gradient_posterior(theta)\n",
    "    in_dir_phi = (tf.matmul(kernel_matrix, in_grad_log_p)/1.0 + grad_kernel)/M"
   ]
  },
  {
   "cell_type": "code",
   "execution_count": 12,
   "metadata": {},
   "outputs": [
    {
     "name": "stdout",
     "output_type": "stream",
     "text": [
      "\n",
      "[                              ] 1% loss: -48873.500000\n",
      "[=                             ] 3% loss: -31892.091797\n",
      "[=                             ] 5% loss: -36140.238281\n",
      "[==                            ] 7% loss: -31072.630859\n",
      "[==                            ] 9% loss: -27439.605469\n",
      "[===                           ] 11% loss: -25213.429688\n",
      "[====                          ] 13% loss: -25730.660156\n",
      "[====                          ] 15% loss: -27252.232422\n",
      "[=====                         ] 17% loss: -28951.285156\n",
      "[=====                         ] 19% loss: -22641.500000\n",
      "[======                        ] 21% loss: -27351.667969\n",
      "[=======                       ] 23% loss: -20035.640625\n",
      "[=======                       ] 25% loss: -23090.208984\n",
      "[========                      ] 27% loss: -25570.189453\n",
      "[========                      ] 29% loss: -21847.541016\n",
      "[=========                     ] 31% loss: -21079.572266\n",
      "[==========                    ] 33% loss: -25479.080078\n",
      "[==========                    ] 35% loss: -13353.820312\n",
      "[===========                   ] 37% loss: -30288.080078\n",
      "[===========                   ] 39% loss: -19527.179688\n",
      "[============                  ] 41% loss: -23915.962891\n",
      "[=============                 ] 43% loss: -22676.673828\n",
      "[=============                 ] 45% loss: -30419.421875\n",
      "[==============                ] 47% loss: -19353.705078\n",
      "[==============                ] 49% loss: -19577.648438\n",
      "[===============               ] 51% loss: -24415.494141\n",
      "[================              ] 53% loss: -20789.328125\n",
      "[================              ] 55% loss: -19809.287109\n",
      "[=================             ] 57% loss: -19756.943359\n",
      "[=================             ] 59% loss: -29737.410156\n",
      "[==================            ] 61% loss: -22390.644531\n",
      "[===================           ] 63% loss: -25402.998047\n",
      "[===================           ] 65% loss: -18383.492188\n",
      "[====================          ] 67% loss: -20091.785156\n",
      "[====================          ] 69% loss: -21917.320312\n",
      "[=====================         ] 71% loss: -26641.167969\n",
      "[======================        ] 73% loss: -15991.436523\n",
      "[======================        ] 75% loss: -18465.490234\n",
      "[=======================       ] 77% loss: -17734.070312\n",
      "[=======================       ] 79% loss: -14679.443359\n",
      "[========================      ] 81% loss: -21907.248047\n",
      "[=========================     ] 83% loss: -21875.107422\n",
      "[=========================     ] 85% loss: -24918.093750\n",
      "[==========================    ] 87% loss: -24583.179688\n",
      "[==========================    ] 89% loss: -29973.000000\n",
      "[===========================   ] 91% loss: -17233.873047\n",
      "[============================  ] 93% loss: -22562.884766\n",
      "[============================  ] 95% loss: -13593.646484\n",
      "[============================= ] 97% loss: -16234.411133\n",
      "[==============================] 100% loss: -29800.060547()\n",
      "1018.95077682\n"
     ]
    }
   ],
   "source": [
    "#initialize theta 0\n",
    "#theta_new = np.random.normal(0,1,[M, (N_FEATURES+1)*N_CLASSES])\n",
    "w_0 = 1.0 / np.sqrt(N_FEATURES + 1) * np.random.randn(M, N_FEATURES*N_CLASSES)\n",
    "b_0 = np.zeros((M, N_CLASSES), dtype=np.float32)\n",
    "log_lambda_0 = np.log(np.random.gamma(ALPHA, BETA, (M,1)))\n",
    "\n",
    "theta_new = np.concatenate((w_0,b_0,log_lambda_0), axis=1)\n",
    "\n",
    "grad_log_p = np.zeros((M,(N_FEATURES+1)*N_CLASSES+1),dtype=np.float32)\n",
    "\n",
    "historical_grad = 0\n",
    "\n",
    "start_time = time.time()\n",
    "with tf.Session() as sess: \n",
    "    for iter in range(N_ITERATIONS): \n",
    "        batch_x, batch_y = mnist.train.next_batch(N_BATCH) \n",
    "        \n",
    "        for i, particle in enumerate(theta_new):  #TODO matrix way\n",
    "            pack_w = np.reshape(particle[:N_FEATURES*N_CLASSES], [N_FEATURES, N_CLASSES])\n",
    "            pack_b = particle[N_FEATURES*N_CLASSES:(N_FEATURES+1)*N_CLASSES]\n",
    "            pack_log_lambda = particle[-1]\n",
    "            \n",
    "            loss, pack_grad_log_p = sess.run([log_p,m_grad_log_p], feed_dict=\n",
    "                                 {model_x: batch_x,\n",
    "                                  model_y: batch_y,\n",
    "                                  model_w: pack_w,\n",
    "                                  model_b: pack_b,\n",
    "                                  model_log_lambda: pack_log_lambda})\n",
    "            \n",
    "            grad_log_p_w = np.reshape(pack_grad_log_p[0], [N_FEATURES*N_CLASSES])\n",
    "            grad_log_p_b = pack_grad_log_p[1]\n",
    "            grad_log_p_log_lambda = np.array([pack_grad_log_p[2]])\n",
    "            \n",
    "            grad_log_p[i,:] = np.concatenate((grad_log_p_w, \n",
    "                                             grad_log_p_b, \n",
    "                                             grad_log_p_log_lambda))\n",
    "            \n",
    "            #print(pack_grad_log_p[2])\n",
    "        \n",
    "        dir_phi = sess.run(in_dir_phi, feed_dict=\n",
    "                               {in_theta: theta_new, \n",
    "                                in_grad_log_p: grad_log_p})\n",
    "        #print(theta_new[:,-1])\n",
    "        #print(dir_phi[:,-1])\n",
    "        \n",
    "        # adagrad \n",
    "        if iter == 0:\n",
    "            historical_grad = historical_grad + np.multiply(dir_phi, dir_phi)\n",
    "        else:\n",
    "            historical_grad = AUTO_CORR * historical_grad +\\\n",
    "            (1 - AUTO_CORR) * np.multiply(dir_phi, dir_phi)\n",
    "        adj_phi = np.divide(dir_phi, FUDGE_FACTOR+np.sqrt(historical_grad))\n",
    "        \n",
    "        theta_new = theta_new + EL * adj_phi\n",
    "\n",
    "        \n",
    "        if(iter%100==0): print \n",
    "        sys.stdout.write('\\r')\n",
    "        sys.stdout.write(\"[%-30s] %d%% loss: %f\" % \n",
    "                         ('='*int(iter*30/(N_ITERATIONS-1)), \n",
    "                          100*int(iter)/(N_ITERATIONS-1),\n",
    "                         loss))\n",
    "        #sys.stdout.write(\"[%-30s]\" % ('='*))\n",
    "        sys.stdout.flush()\n",
    "print()\n",
    "print(time.time()-start_time)"
   ]
  },
  {
   "cell_type": "code",
   "execution_count": 13,
   "metadata": {},
   "outputs": [
    {
     "data": {
      "text/plain": [
       "<matplotlib.text.Text at 0x7f807c426a10>"
      ]
     },
     "execution_count": 13,
     "metadata": {},
     "output_type": "execute_result"
    },
    {
     "data": {
      "image/png": "[encoded data removed]",
      "text/plain": [
       "<matplotlib.figure.Figure at 0x7f80a2632650>"
      ]
     },
     "metadata": {},
     "output_type": "display_data"
    }
   ],
   "source": [
    "X_test = mnist.test.images\n",
    "Y_test = np.argmax(mnist.test.labels,axis=1)\n",
    "\n",
    "prediction_thetas = []\n",
    "\n",
    "with tf.Session() as sess:\n",
    "    for particle in theta_new:\n",
    "        pack_w = np.reshape(particle[:N_FEATURES*N_CLASSES], [N_FEATURES, N_CLASSES])\n",
    "        pack_b = particle[N_FEATURES*N_CLASSES:(N_FEATURES+1)*N_CLASSES]\n",
    "        pack_log_lambda = particle[-1]\n",
    "\n",
    "        prediction = sess.run(model_prediction, feed_dict= \n",
    "                              {model_x: X_test,\n",
    "                               model_w: pack_w,\n",
    "                               model_b: pack_b,\n",
    "                               model_log_lambda: pack_log_lambda\n",
    "        })\n",
    "        prediction_thetas.append(prediction)\n",
    "\n",
    "accy_test = []\n",
    "for prediction_theta in prediction_thetas:\n",
    "    y_trn_prd = np.argmax(prediction_theta,axis=1).astype(np.float32)\n",
    "    acc = (y_trn_prd == Y_test).mean()*100\n",
    "    accy_test.append(acc)\n",
    "\n",
    "plt.hist(accy_test)\n",
    "plt.title(\"Histogram of prediction accuracies in the MNIST test data\")\n",
    "plt.xlabel(\"Accuracy\")\n",
    "plt.ylabel(\"Frequency\")"
   ]
  },
  {
   "cell_type": "code",
   "execution_count": 62,
   "metadata": {},
   "outputs": [
    {
     "data": {
      "text/plain": [
       "(array([6., 1., 0., 1., 0., 0., 0., 0., 0., 2.]),\n",
       " array([-0.00049427, -0.00049396, -0.00049365, -0.00049333, -0.00049302,\n",
       "        -0.0004927 , -0.00049239, -0.00049207, -0.00049176, -0.00049145,\n",
       "        -0.00049113]),\n",
       " <a list of 10 Patch objects>)"
      ]
     },
     "execution_count": 62,
     "metadata": {},
     "output_type": "execute_result"
    },
    {
     "data": {
      "image/png": "[encoded data removed]",
      "text/plain": [
       "<matplotlib.figure.Figure at 0x7f0fa71592d0>"
      ]
     },
     "metadata": {},
     "output_type": "display_data"
    }
   ],
   "source": [
    "plt.hist(theta_new[:,0])"
   ]
  },
  {
   "cell_type": "code",
   "execution_count": 63,
   "metadata": {},
   "outputs": [
    {
     "name": "stdout",
     "output_type": "stream",
     "text": [
      "('accuracy in predicting the test data = ', 91.84)\n"
     ]
    }
   ],
   "source": [
    "Y_pred = np.argmax(np.mean(prediction_thetas,axis=0),axis=1)\n",
    "print(\"accuracy in predicting the test data = \", (Y_pred == Y_test).mean()*100)"
   ]
  },
  {
   "cell_type": "code",
   "execution_count": 41,
   "metadata": {},
   "outputs": [
    {
     "data": {
      "text/plain": [
       "<matplotlib.text.Text at 0x7f0fa7561d90>"
      ]
     },
     "execution_count": 41,
     "metadata": {},
     "output_type": "execute_result"
    },
    {
     "data": {
      "image/png": "[encoded data removed]",
      "text/plain": [
       "<matplotlib.figure.Figure at 0x7f0fa883ced0>"
      ]
     },
     "metadata": {},
     "output_type": "display_data"
    }
   ],
   "source": [
    "samples_df = pd.DataFrame(data = theta_new, index=range(M))\n",
    "# Now create a small subset by taking the first 5 weights, labelled as W_0, ... , W_4.\n",
    "samples_5 = pd.DataFrame(data = samples_df[list(range(5))].values,columns=[\"W_0\", \"W_1\", \"W_2\", \"W_3\", \"W_4\"])\n",
    "# We use Seaborn PairGrid to make a triale plot to show auto and cross correlations.\n",
    "g = sns.PairGrid(samples_5, diag_sharey=False)\n",
    "g.map_lower(sns.kdeplot, n_levels = 4,cmap=\"Blues_d\")\n",
    "g.map_upper(plt.scatter)\n",
    "g.map_diag(sns.kdeplot,legend=False)\n",
    "plt.subplots_adjust(top=0.95)\n",
    "g.fig.suptitle('Joint posterior distribution of the first 5 weights')"
   ]
  },
  {
   "cell_type": "code",
   "execution_count": 36,
   "metadata": {},
   "outputs": [
    {
     "data": {
      "text/plain": [
       "array([0., 0., 0., 0., 0., 1., 1., 1.])"
      ]
     },
     "execution_count": 36,
     "metadata": {},
     "output_type": "execute_result"
    }
   ],
   "source": []
  },
  {
   "cell_type": "code",
   "execution_count": 26,
   "metadata": {},
   "outputs": [
    {
     "data": {
      "text/plain": [
       "[<tf.Tensor 'model_4/gradients/AddN_4:0' shape=(784, 10) dtype=float32>,\n",
       " <tf.Tensor 'model_4/gradients/AddN_3:0' shape=(10,) dtype=float32>,\n",
       " <tf.Tensor 'model_4/gradients/model_4/Exp_grad/mul:0' shape=() dtype=float32>]"
      ]
     },
     "execution_count": 26,
     "metadata": {},
     "output_type": "execute_result"
    }
   ],
   "source": [
    "m_grad_log_p"
   ]
  },
  {
   "cell_type": "code",
   "execution_count": 9,
   "metadata": {},
   "outputs": [],
   "source": [
    "a = np.array([[1,2,3],[4,5,6]])"
   ]
  },
  {
   "cell_type": "code",
   "execution_count": 10,
   "metadata": {},
   "outputs": [
    {
     "data": {
      "text/plain": [
       "array([[1, 2, 3],\n",
       "       [4, 5, 6]])"
      ]
     },
     "execution_count": 10,
     "metadata": {},
     "output_type": "execute_result"
    }
   ],
   "source": [
    "a"
   ]
  },
  {
   "cell_type": "code",
   "execution_count": 17,
   "metadata": {},
   "outputs": [
    {
     "data": {
      "text/plain": [
       "array([3, 6])"
      ]
     },
     "execution_count": 17,
     "metadata": {},
     "output_type": "execute_result"
    }
   ],
   "source": [
    "a[:,-1]"
   ]
  },
  {
   "cell_type": "code",
   "execution_count": 26,
   "metadata": {},
   "outputs": [],
   "source": [
    "a = [[1,2],[3,4],[5,6]]"
   ]
  },
  {
   "cell_type": "code",
   "execution_count": 29,
   "metadata": {},
   "outputs": [
    {
     "data": {
      "text/plain": [
       "1"
      ]
     },
     "execution_count": 29,
     "metadata": {},
     "output_type": "execute_result"
    }
   ],
   "source": [
    "np.argmax(np.mean(a, axis=0),axis=0)"
   ]
  },
  {
   "cell_type": "code",
   "execution_count": null,
   "metadata": {},
   "outputs": [],
   "source": []
  },
  {
   "cell_type": "code",
   "execution_count": null,
   "metadata": {},
   "outputs": [],
   "source": []
  },
  {
   "cell_type": "code",
   "execution_count": null,
   "metadata": {},
   "outputs": [],
   "source": []
  },
  {
   "cell_type": "code",
   "execution_count": null,
   "metadata": {},
   "outputs": [],
   "source": []
  },
  {
   "cell_type": "code",
   "execution_count": null,
   "metadata": {},
   "outputs": [],
   "source": []
  },
  {
   "cell_type": "code",
   "execution_count": null,
   "metadata": {},
   "outputs": [],
   "source": []
  }
 ],
 "metadata": {
  "kernelspec": {
   "display_name": "Python 2",
   "language": "python",
   "name": "python2"
  },
  "language_info": {
   "codemirror_mode": {
    "name": "ipython",
    "version": 2
   },
   "file_extension": ".py",
   "mimetype": "text/x-python",
   "name": "python",
   "nbconvert_exporter": "python",
   "pygments_lexer": "ipython2",
   "version": "2.7.12"
  }
 },
 "nbformat": 4,
 "nbformat_minor": 2
}
