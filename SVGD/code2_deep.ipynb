{
 "cells": [
  {
   "cell_type": "code",
   "execution_count": 1,
   "metadata": {},
   "outputs": [],
   "source": [
    "%matplotlib inline\n",
    "import matplotlib.pyplot as plt\n",
    "import tensorflow as tf\n",
    "import numpy as np\n",
    "import pandas as pd\n",
    "import seaborn as sns\n",
    "import sys\n",
    "import time\n",
    "\n",
    "from tensorflow.contrib.distributions import Normal, Gamma\n",
    "from tensorflow.examples.tutorials.mnist import input_data"
   ]
  },
  {
   "cell_type": "code",
   "execution_count": 2,
   "metadata": {},
   "outputs": [
    {
     "name": "stdout",
     "output_type": "stream",
     "text": [
      "WARNING:tensorflow:From <ipython-input-2-5d010ecc5c0b>:2: read_data_sets (from tensorflow.contrib.learn.python.learn.datasets.mnist) is deprecated and will be removed in a future version.\n",
      "Instructions for updating:\n",
      "Please use alternatives such as official/mnist/dataset.py from tensorflow/models.\n",
      "WARNING:tensorflow:From /home/jose/.local/lib/python2.7/site-packages/tensorflow/contrib/learn/python/learn/datasets/mnist.py:260: maybe_download (from tensorflow.contrib.learn.python.learn.datasets.base) is deprecated and will be removed in a future version.\n",
      "Instructions for updating:\n",
      "Please write your own downloading logic.\n",
      "WARNING:tensorflow:From /home/jose/.local/lib/python2.7/site-packages/tensorflow/contrib/learn/python/learn/datasets/mnist.py:262: extract_images (from tensorflow.contrib.learn.python.learn.datasets.mnist) is deprecated and will be removed in a future version.\n",
      "Instructions for updating:\n",
      "Please use tf.data to implement this functionality.\n",
      "Extracting MNIST_data/train-images-idx3-ubyte.gz\n",
      "WARNING:tensorflow:From /home/jose/.local/lib/python2.7/site-packages/tensorflow/contrib/learn/python/learn/datasets/mnist.py:267: extract_labels (from tensorflow.contrib.learn.python.learn.datasets.mnist) is deprecated and will be removed in a future version.\n",
      "Instructions for updating:\n",
      "Please use tf.data to implement this functionality.\n",
      "Extracting MNIST_data/train-labels-idx1-ubyte.gz\n",
      "WARNING:tensorflow:From /home/jose/.local/lib/python2.7/site-packages/tensorflow/contrib/learn/python/learn/datasets/mnist.py:110: dense_to_one_hot (from tensorflow.contrib.learn.python.learn.datasets.mnist) is deprecated and will be removed in a future version.\n",
      "Instructions for updating:\n",
      "Please use tf.one_hot on tensors.\n",
      "Extracting MNIST_data/t10k-images-idx3-ubyte.gz\n",
      "Extracting MNIST_data/t10k-labels-idx1-ubyte.gz\n",
      "WARNING:tensorflow:From /home/jose/.local/lib/python2.7/site-packages/tensorflow/contrib/learn/python/learn/datasets/mnist.py:290: __init__ (from tensorflow.contrib.learn.python.learn.datasets.mnist) is deprecated and will be removed in a future version.\n",
      "Instructions for updating:\n",
      "Please use alternatives such as official/mnist/dataset.py from tensorflow/models.\n"
     ]
    }
   ],
   "source": [
    "# load data\n",
    "mnist = input_data.read_data_sets(\"MNIST_data/\", one_hot=True)"
   ]
  },
  {
   "cell_type": "code",
   "execution_count": 3,
   "metadata": {},
   "outputs": [
    {
     "name": "stdout",
     "output_type": "stream",
     "text": [
      "train: 55000\n",
      "test: 10000\n"
     ]
    }
   ],
   "source": [
    "print(\"train: \"+str(mnist.train.num_examples))\n",
    "print(\"test: \"+str(mnist.test.num_examples))"
   ]
  },
  {
   "cell_type": "code",
   "execution_count": 4,
   "metadata": {},
   "outputs": [],
   "source": [
    "# model variables\n",
    "N_FEATURES = 28*28\n",
    "N_HIDDEN = 512\n",
    "N_CLASSES = 10\n",
    "DIM_THETA = (N_FEATURES+1)*N_HIDDEN +(N_HIDDEN+1)*N_CLASSES + 1 #fc1+fc2+gamma \n",
    "ALPHA, BETA = 1., 0.1\n",
    "\n",
    "N_TRAIN = mnist.train.num_examples\n",
    "N_BATCH = 100\n",
    "\n",
    "#stein variables\n",
    "EL = 1e-3 \n",
    "N_ITERATIONS = 1100\n",
    "M = 5 # number of particles\n",
    "\n",
    "#adam variables\n",
    "FUDGE_FACTOR = 1e-6\n",
    "AUTO_CORR = 0.9"
   ]
  },
  {
   "cell_type": "code",
   "execution_count": 5,
   "metadata": {},
   "outputs": [
    {
     "name": "stdout",
     "output_type": "stream",
     "text": [
      "WARNING:tensorflow:From <ipython-input-5-0a19eac09dd0>:27: __init__ (from tensorflow.python.ops.distributions.gamma) is deprecated and will be removed after 2019-01-01.\n",
      "Instructions for updating:\n",
      "The TensorFlow Distributions library has moved to TensorFlow Probability (https://github.com/tensorflow/probability). You should update all references to use `tfp.distributions` instead of `tf.distributions`.\n",
      "WARNING:tensorflow:From /home/jose/.local/lib/python2.7/site-packages/tensorflow/python/ops/distributions/gamma.py:181: __init__ (from tensorflow.python.ops.distributions.distribution) is deprecated and will be removed after 2019-01-01.\n",
      "Instructions for updating:\n",
      "The TensorFlow Distributions library has moved to TensorFlow Probability (https://github.com/tensorflow/probability). You should update all references to use `tfp.distributions` instead of `tf.distributions`.\n",
      "WARNING:tensorflow:From <ipython-input-5-0a19eac09dd0>:30: __init__ (from tensorflow.python.ops.distributions.normal) is deprecated and will be removed after 2019-01-01.\n",
      "Instructions for updating:\n",
      "The TensorFlow Distributions library has moved to TensorFlow Probability (https://github.com/tensorflow/probability). You should update all references to use `tfp.distributions` instead of `tf.distributions`.\n"
     ]
    }
   ],
   "source": [
    "#create the first model\n",
    "with tf.name_scope(\"model\"):\n",
    "    # variables\n",
    "    model_x = tf.placeholder(tf.float32, [None, N_FEATURES])\n",
    "    model_y = tf.placeholder(tf.float32, [None, N_CLASSES]) # one-hot-encoding\n",
    "    \n",
    "    model_w1 = tf.Variable(tf.zeros([N_FEATURES,N_HIDDEN], dtype=tf.float32))\n",
    "    model_b1 = tf.Variable(tf.zeros([N_HIDDEN], dtype=tf.float32))\n",
    "    \n",
    "    model_w2 = tf.Variable(tf.zeros([N_HIDDEN,N_CLASSES], dtype=tf.float32))\n",
    "    model_b2 = tf.Variable(tf.zeros([N_CLASSES], dtype=tf.float32))\n",
    "    \n",
    "    model_log_lambda = tf.Variable(tf.zeros([]))\n",
    "    model_lambda = tf.exp(model_log_lambda)\n",
    "\n",
    "    with tf.name_scope(\"prediction\"):\n",
    "        model_fc1 = tf.nn.relu(tf.matmul(model_x, model_w1) + model_b1)\n",
    "        model_prediction = tf.nn.softmax(tf.matmul(model_fc1, model_w2) + model_b2) # y = softmax(w*x+b)\n",
    "    \n",
    "    with tf.name_scope(\"likelihood\"):\n",
    "        log_prediction = tf.log(model_prediction) # log p(y=i|x,w), for i = 0,...,9\n",
    "        #use the true label, we need for x_i log p(y=y_i|x_i,w)\n",
    "        log_like = tf.reduce_sum(model_y * log_prediction, 1) \n",
    "        log_likelihood = tf.reduce_sum(log_like) #log p(D|w)\n",
    "    \n",
    "    with tf.name_scope(\"priors\"):\n",
    "        prior_lambda = Gamma(ALPHA, BETA)\n",
    "        prior_w1 = Normal(\n",
    "            tf.zeros([N_FEATURES, N_HIDDEN]),\n",
    "            tf.reciprocal(tf.sqrt(model_lambda))\n",
    "        )\n",
    "        prior_b1 = Normal(\n",
    "            tf.zeros([N_HIDDEN]),\n",
    "            tf.reciprocal(tf.sqrt(model_lambda))\n",
    "        )\n",
    "        prior_w2 = Normal(\n",
    "            tf.zeros([N_HIDDEN, N_CLASSES]),\n",
    "            tf.reciprocal(tf.sqrt(model_lambda))\n",
    "        )\n",
    "        prior_b2 = Normal(\n",
    "            tf.zeros([N_CLASSES]),\n",
    "            tf.reciprocal(tf.sqrt(model_lambda))\n",
    "        )\n",
    "    \n",
    "    log_p = (\n",
    "        log_likelihood * N_TRAIN / N_BATCH +\n",
    "        # Variance priors.\n",
    "        prior_lambda.log_prob(model_log_lambda) +\n",
    "        # Weight and bias priors.\n",
    "        tf.reduce_sum(prior_w1.log_prob(model_w1)) +\n",
    "        tf.reduce_sum(prior_b1.log_prob(model_b1)) +\n",
    "        tf.reduce_sum(prior_w2.log_prob(model_w2)) +\n",
    "        tf.reduce_sum(prior_b2.log_prob(model_b2))\n",
    "    )\n",
    "        \n",
    "    m_grad_log_p = tf.gradients(log_p, [model_w1, model_b1, \n",
    "                                        model_w2, model_b2, \n",
    "                                        model_log_lambda])"
   ]
  },
  {
   "cell_type": "code",
   "execution_count": 6,
   "metadata": {},
   "outputs": [],
   "source": [
    "def get_real_median(v):\n",
    "    v = tf.reshape(v, [-1])\n",
    "    l = v.get_shape()[0]\n",
    "    mid = l//2 + 1\n",
    "    val = tf.nn.top_k(v, mid).values\n",
    "    if l % 2 == 1:\n",
    "        return val[-1]\n",
    "    else:\n",
    "        return 0.5 * (val[-1] + val[-2])\n",
    "\n",
    "def svgd_kernel(theta):\n",
    "    # compute dist\n",
    "    r = tf.reduce_sum(theta*theta, 1)\n",
    "    r = tf.reshape(r, [-1, 1])\n",
    "    pairwise_dists = r - 2.*tf.matmul(theta, tf.transpose(theta)) + tf.transpose(r)\n",
    "    \n",
    "    #using median trick and compute h\n",
    "    m = get_real_median(pairwise_dists)\n",
    "    h = tf.sqrt(0.5 * m / tf.log(tf.cast(theta.get_shape()[0], tf.float32)+1.0))\n",
    "    \n",
    "    # kernel matrix\n",
    "    kernel_matrix = tf.exp(-pairwise_dists/h**2/2)\n",
    "    \n",
    "    # gradient of kernel matrix\n",
    "    grad_kernel = -tf.matmul(kernel_matrix, theta)\n",
    "    sumkxy = tf.expand_dims(tf.reduce_sum(kernel_matrix, axis=1), 1) \n",
    "    grad_kernel = tf.add(grad_kernel, tf.multiply(theta, sumkxy)) / (h ** 2)\n",
    "\n",
    "    return kernel_matrix, grad_kernel\n",
    "    \n",
    "#create the inference\n",
    "with tf.name_scope(\"inference\"):\n",
    "    in_theta = tf.placeholder(tf.float32, [M, DIM_THETA]) # w+b+gamma\n",
    "    in_grad_log_p = tf.placeholder(tf.float32, [M, DIM_THETA])\n",
    "    \n",
    "    kernel_matrix, grad_kernel = svgd_kernel(in_theta)\n",
    "    #grad_log_p = gradient_posterior(theta)\n",
    "    in_dir_phi = (tf.matmul(kernel_matrix, in_grad_log_p) + grad_kernel)/M"
   ]
  },
  {
   "cell_type": "code",
   "execution_count": 7,
   "metadata": {},
   "outputs": [
    {
     "name": "stdout",
     "output_type": "stream",
     "text": [
      "()\n",
      "[==                            ] 9% loss: -918148.375000()\n",
      "[=====                         ] 18% loss: -882218.062500()\n",
      "[========                      ] 27% loss: -869685.500000()\n",
      "[==========                    ] 36% loss: -843486.750000()\n",
      "[=============                 ] 45% loss: -820161.562500()\n",
      "[================              ] 54% loss: -802710.187500()\n",
      "[===================           ] 63% loss: -785046.125000()\n",
      "[=====================         ] 72% loss: -754184.875000()\n",
      "[========================      ] 81% loss: -738320.312500()\n",
      "[===========================   ] 90% loss: -713273.062500()\n",
      "[==============================] 100% loss: -700373.500000()\n",
      "138.635746956\n"
     ]
    }
   ],
   "source": [
    "#initialize theta 0\n",
    "w1_0 = 1.0 / np.sqrt(N_FEATURES + 1) * np.random.randn(M, N_FEATURES*N_HIDDEN)\n",
    "b1_0 = np.zeros((M, N_HIDDEN), dtype=np.float32)\n",
    "\n",
    "w2_0 = 1.0 / np.sqrt(N_HIDDEN + 1) * np.random.randn(M, N_HIDDEN*N_CLASSES)\n",
    "b2_0 = np.zeros((M, N_CLASSES), dtype=np.float32)\n",
    "\n",
    "log_lambda_0 = np.log(np.random.gamma(ALPHA, BETA, (M,1)))\n",
    "\n",
    "theta_new = np.concatenate((w1_0,b1_0,w2_0,b2_0,log_lambda_0), axis=1)\n",
    "\n",
    "grad_log_p = np.zeros((M,DIM_THETA), dtype=np.float32)\n",
    "\n",
    "historical_grad = 0\n",
    "\n",
    "start_time = time.time()\n",
    "with tf.Session() as sess: \n",
    "    for iter in range(N_ITERATIONS): \n",
    "        batch_x, batch_y = mnist.train.next_batch(N_BATCH) \n",
    "        \n",
    "        for i, particle in enumerate(theta_new):  #TODO matrix way\n",
    "            a = N_FEATURES*N_HIDDEN\n",
    "            b = a + N_HIDDEN \n",
    "            \n",
    "            pack_w1 = np.reshape(particle[:a], [N_FEATURES, N_HIDDEN])\n",
    "            pack_b1 = particle[a:b]\n",
    "            \n",
    "            c = b + N_HIDDEN*N_CLASSES\n",
    "            d = c + N_CLASSES \n",
    "            \n",
    "            pack_w2 = np.reshape(particle[b:c], [N_HIDDEN, N_CLASSES])\n",
    "            pack_b2 = particle[c:d]\n",
    "            \n",
    "            pack_log_lambda = particle[-1]\n",
    "            \n",
    "            loss, pack_grad_log_p = sess.run([log_p,m_grad_log_p], feed_dict=\n",
    "                                 {model_x: batch_x,\n",
    "                                  model_y: batch_y,\n",
    "                                  model_w1: pack_w1,\n",
    "                                  model_b1: pack_b1,\n",
    "                                  model_w2: pack_w2,\n",
    "                                  model_b2: pack_b2,\n",
    "                                  model_log_lambda: pack_log_lambda})\n",
    "            \n",
    "            grad_log_p_w1 = np.reshape(pack_grad_log_p[0], [N_FEATURES*N_HIDDEN])\n",
    "            grad_log_p_b1 = pack_grad_log_p[1]\n",
    "            grad_log_p_w2 = np.reshape(pack_grad_log_p[2], [N_HIDDEN*N_CLASSES])\n",
    "            grad_log_p_b2 = pack_grad_log_p[3]\n",
    "            grad_log_p_log_lambda = np.array([pack_grad_log_p[4]])\n",
    "            \n",
    "            grad_log_p[i,:] = np.concatenate((grad_log_p_w1, \n",
    "                                             grad_log_p_b1,\n",
    "                                             grad_log_p_w2, \n",
    "                                             grad_log_p_b2,\n",
    "                                             grad_log_p_log_lambda))\n",
    "            \n",
    "            #print(pack_grad_log_p[2])\n",
    "        \n",
    "        dir_phi = sess.run(in_dir_phi, feed_dict=\n",
    "                               {in_theta: theta_new, \n",
    "                                in_grad_log_p: grad_log_p})\n",
    "        #print(theta_new[:,-1])\n",
    "        #print(dir_phi[:,-1])\n",
    "        \n",
    "        # adagrad \n",
    "        if iter == 0:\n",
    "            historical_grad = historical_grad + np.multiply(dir_phi, dir_phi)\n",
    "        else:\n",
    "            historical_grad = AUTO_CORR * historical_grad +\\\n",
    "            (1 - AUTO_CORR) * np.multiply(dir_phi, dir_phi)\n",
    "        adj_phi = np.divide(dir_phi, FUDGE_FACTOR+np.sqrt(historical_grad))\n",
    "        \n",
    "        theta_new = theta_new + EL * adj_phi\n",
    "\n",
    "        #print(np.mean(theta_new[:,0]))\n",
    "        if(iter%100==0): print() \n",
    "        sys.stdout.write('\\r')\n",
    "        sys.stdout.write(\"[%-30s] %d%% loss: %f\" % \n",
    "                         ('='*int(iter*30/(N_ITERATIONS-1)), \n",
    "                          100*int(iter)/(N_ITERATIONS-1),\n",
    "                         loss))\n",
    "        #sys.stdout.write(\"[%-30s]\" % ('='*))\n",
    "        sys.stdout.flush()\n",
    "print()\n",
    "print(time.time()-start_time)\n",
    "        "
   ]
  },
  {
   "cell_type": "code",
   "execution_count": 8,
   "metadata": {},
   "outputs": [
    {
     "data": {
      "text/plain": [
       "<matplotlib.text.Text at 0x7f6ed84db290>"
      ]
     },
     "execution_count": 8,
     "metadata": {},
     "output_type": "execute_result"
    },
    {
     "data": {
      "image/png": "[encoded data removed]",
      "text/plain": [
       "<matplotlib.figure.Figure at 0x7f6edaf26090>"
      ]
     },
     "metadata": {},
     "output_type": "display_data"
    }
   ],
   "source": [
    "X_test = mnist.test.images\n",
    "Y_test = np.argmax(mnist.test.labels,axis=1)\n",
    "\n",
    "prediction_thetas = []\n",
    "\n",
    "with tf.Session() as sess:\n",
    "    for particle in theta_new:\n",
    "        a = N_FEATURES*N_HIDDEN\n",
    "        b = a + N_HIDDEN \n",
    "            \n",
    "        pack_w1 = np.reshape(particle[:a], [N_FEATURES, N_HIDDEN])\n",
    "        pack_b1 = particle[a:b]\n",
    "            \n",
    "        c = b + N_HIDDEN*N_CLASSES\n",
    "        d = c + N_CLASSES \n",
    "            \n",
    "        pack_w2 = np.reshape(particle[b:c], [N_HIDDEN, N_CLASSES])\n",
    "        pack_b2 = particle[c:d]\n",
    "            \n",
    "        pack_log_lambda = particle[-1]\n",
    "\n",
    "        prediction = sess.run(model_prediction, feed_dict= \n",
    "                              {model_x: X_test,\n",
    "                               model_w1: pack_w1,\n",
    "                               model_b1: pack_b1,\n",
    "                               model_w2: pack_w2,\n",
    "                               model_b2: pack_b2,\n",
    "                               model_log_lambda: pack_log_lambda\n",
    "        })\n",
    "        prediction_thetas.append(prediction)\n",
    "\n",
    "accy_test = []\n",
    "for prediction_theta in prediction_thetas:\n",
    "    y_trn_prd = np.argmax(prediction_theta,axis=1).astype(np.float32)\n",
    "    acc = (y_trn_prd == Y_test).mean()*100\n",
    "    accy_test.append(acc)\n",
    "\n",
    "plt.hist(accy_test)\n",
    "plt.title(\"Histogram of prediction accuracies in the MNIST test data\")\n",
    "plt.xlabel(\"Accuracy\")\n",
    "plt.ylabel(\"Frequency\")"
   ]
  },
  {
   "cell_type": "code",
   "execution_count": 9,
   "metadata": {},
   "outputs": [
    {
     "data": {
      "text/plain": [
       "(array([3., 0., 1., 0., 0., 0., 0., 0., 0., 1.]),\n",
       " array([0.00049018, 0.00049108, 0.00049197, 0.00049287, 0.00049377,\n",
       "        0.00049467, 0.00049556, 0.00049646, 0.00049736, 0.00049825,\n",
       "        0.00049915]),\n",
       " <a list of 10 Patch objects>)"
      ]
     },
     "execution_count": 9,
     "metadata": {},
     "output_type": "execute_result"
    },
    {
     "data": {
      "image/png": "[encoded data removed]",
      "text/plain": [
       "<matplotlib.figure.Figure at 0x7f6edadcf350>"
      ]
     },
     "metadata": {},
     "output_type": "display_data"
    }
   ],
   "source": [
    "plt.hist(theta_new[:,0])"
   ]
  },
  {
   "cell_type": "code",
   "execution_count": 10,
   "metadata": {},
   "outputs": [
    {
     "name": "stdout",
     "output_type": "stream",
     "text": [
      "('accuracy in predicting the test data = ', 97.17)\n"
     ]
    }
   ],
   "source": [
    "Y_pred = np.argmax(np.mean(prediction_thetas,axis=0),axis=1)\n",
    "print(\"accuracy in predicting the test data = \", (Y_pred == Y_test).mean()*100)"
   ]
  },
  {
   "cell_type": "code",
   "execution_count": 11,
   "metadata": {},
   "outputs": [
    {
     "data": {
      "text/plain": [
       "<matplotlib.text.Text at 0x7f6ebb691750>"
      ]
     },
     "execution_count": 11,
     "metadata": {},
     "output_type": "execute_result"
    },
    {
     "data": {
      "image/png": "[encoded data removed]",
      "text/plain": [
       "<matplotlib.figure.Figure at 0x7f6ed4ac0c10>"
      ]
     },
     "metadata": {},
     "output_type": "display_data"
    }
   ],
   "source": [
    "samples_df = pd.DataFrame(data = theta_new, index=range(M))\n",
    "# Now create a small subset by taking the first 5 weights, labelled as W_0, ... , W_4.\n",
    "samples_5 = pd.DataFrame(data = samples_df[list(range(5))].values,columns=[\"W_0\", \"W_1\", \"W_2\", \"W_3\", \"W_4\"])\n",
    "# We use Seaborn PairGrid to make a triale plot to show auto and cross correlations.\n",
    "g = sns.PairGrid(samples_5, diag_sharey=False)\n",
    "g.map_lower(sns.kdeplot, n_levels = 4,cmap=\"Blues_d\")\n",
    "g.map_upper(plt.scatter)\n",
    "g.map_diag(sns.kdeplot,legend=False)\n",
    "plt.subplots_adjust(top=0.95)\n",
    "g.fig.suptitle('Joint posterior distribution of the first 5 weights')"
   ]
  },
  {
   "cell_type": "code",
   "execution_count": null,
   "metadata": {},
   "outputs": [],
   "source": []
  },
  {
   "cell_type": "code",
   "execution_count": 12,
   "metadata": {},
   "outputs": [
    {
     "data": {
      "text/plain": [
       "[<tf.Tensor 'model/gradients/AddN_9:0' shape=(784, 512) dtype=float32>,\n",
       " <tf.Tensor 'model/gradients/AddN_8:0' shape=(512,) dtype=float32>,\n",
       " <tf.Tensor 'model/gradients/AddN_7:0' shape=(512, 10) dtype=float32>,\n",
       " <tf.Tensor 'model/gradients/AddN_5:0' shape=(10,) dtype=float32>,\n",
       " <tf.Tensor 'model/gradients/AddN_6:0' shape=() dtype=float32>]"
      ]
     },
     "execution_count": 12,
     "metadata": {},
     "output_type": "execute_result"
    }
   ],
   "source": [
    "m_grad_log_p"
   ]
  },
  {
   "cell_type": "code",
   "execution_count": 13,
   "metadata": {},
   "outputs": [],
   "source": [
    "a = np.array([[1,2,3],[4,5,6]])"
   ]
  },
  {
   "cell_type": "code",
   "execution_count": 14,
   "metadata": {},
   "outputs": [
    {
     "data": {
      "text/plain": [
       "array([[1, 2, 3],\n",
       "       [4, 5, 6]])"
      ]
     },
     "execution_count": 14,
     "metadata": {},
     "output_type": "execute_result"
    }
   ],
   "source": [
    "a"
   ]
  },
  {
   "cell_type": "code",
   "execution_count": 15,
   "metadata": {},
   "outputs": [
    {
     "data": {
      "text/plain": [
       "array([3, 6])"
      ]
     },
     "execution_count": 15,
     "metadata": {},
     "output_type": "execute_result"
    }
   ],
   "source": [
    "a[:,-1]"
   ]
  },
  {
   "cell_type": "code",
   "execution_count": 16,
   "metadata": {},
   "outputs": [],
   "source": [
    "a = [[1,2],[3,4],[5,6]]"
   ]
  },
  {
   "cell_type": "code",
   "execution_count": 17,
   "metadata": {},
   "outputs": [
    {
     "data": {
      "text/plain": [
       "1"
      ]
     },
     "execution_count": 17,
     "metadata": {},
     "output_type": "execute_result"
    }
   ],
   "source": [
    "np.argmax(np.mean(a, axis=0),axis=0)"
   ]
  },
  {
   "cell_type": "code",
   "execution_count": 18,
   "metadata": {},
   "outputs": [
    {
     "data": {
      "text/plain": [
       "<tf.Tensor 'model/prediction/Relu:0' shape=(?, 512) dtype=float32>"
      ]
     },
     "execution_count": 18,
     "metadata": {},
     "output_type": "execute_result"
    }
   ],
   "source": [
    "model_fc1"
   ]
  },
  {
   "cell_type": "code",
   "execution_count": null,
   "metadata": {},
   "outputs": [],
   "source": []
  },
  {
   "cell_type": "code",
   "execution_count": null,
   "metadata": {},
   "outputs": [],
   "source": []
  },
  {
   "cell_type": "code",
   "execution_count": null,
   "metadata": {},
   "outputs": [],
   "source": []
  },
  {
   "cell_type": "code",
   "execution_count": null,
   "metadata": {},
   "outputs": [],
   "source": []
  },
  {
   "cell_type": "code",
   "execution_count": null,
   "metadata": {},
   "outputs": [],
   "source": []
  }
 ],
 "metadata": {
  "kernelspec": {
   "display_name": "Python 2",
   "language": "python",
   "name": "python2"
  },
  "language_info": {
   "codemirror_mode": {
    "name": "ipython",
    "version": 2
   },
   "file_extension": ".py",
   "mimetype": "text/x-python",
   "name": "python",
   "nbconvert_exporter": "python",
   "pygments_lexer": "ipython2",
   "version": "2.7.12"
  }
 },
 "nbformat": 4,
 "nbformat_minor": 2
}
